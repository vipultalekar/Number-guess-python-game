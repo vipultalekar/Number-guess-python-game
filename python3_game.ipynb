{
  "nbformat": 4,
  "nbformat_minor": 0,
  "metadata": {
    "colab": {
      "provenance": [],
      "authorship_tag": "ABX9TyN4SC5LLHXB7nuKbC10IS6r",
      "include_colab_link": true
    },
    "kernelspec": {
      "name": "python3",
      "display_name": "Python 3"
    },
    "language_info": {
      "name": "python"
    }
  },
  "cells": [
    {
      "cell_type": "markdown",
      "metadata": {
        "id": "view-in-github",
        "colab_type": "text"
      },
      "source": [
        "<a href=\"https://colab.research.google.com/github/vipultalekar/Number-guess-python-game/blob/master/python3_game.ipynb\" target=\"_parent\"><img src=\"https://colab.research.google.com/assets/colab-badge.svg\" alt=\"Open In Colab\"/></a>"
      ]
    },
    {
      "cell_type": "code",
      "source": [
        "import random #bring in the random number\n",
        "import time\n",
        "number=random.randint(1, 200) #pick the number between 1 and 200\n",
        "\n",
        "def intro():\n",
        "    print(\"May I ask you for your name?\")\n",
        "    name=input() #asks for the name\n",
        "    print(name + \", we are going to play a game. I am thinking of a number between 1 and 200\")\n",
        "    time.sleep(.5)\n",
        "    print(\"Go ahead. Guess!\")\n",
        "\n",
        "def pick():\n",
        "    guessesTaken = 0\n",
        "    while guessesTaken < 6: #if the number of guesses is less than 6\n",
        "        time.sleep(.25)\n",
        "        enter=input(\"Guess: \") #inserts the place to enter guess\n",
        "        try: #check if a number was entered\n",
        "            guess = int(enter) #stores the guess as an integer instead of a string\n",
        "\n",
        "            if guess<=200 and guess>=1: #if they are in range\n",
        "                guessesTaken=guessesTaken+1 #adds one guess each time the player is wrong\n",
        "                if guessesTaken<6:\n",
        "                    if guess<number:\n",
        "                        print(\"The guess of the number that you have entered is too low\")\n",
        "                    if guess>number:\n",
        "                        print(\"The guess of the number that you have entered is too high\")\n",
        "                    if guess != number:\n",
        "                        time.sleep(.5)\n",
        "                        print(\"Try Again!\")\n",
        "                if guess==number:\n",
        "                    break #if the guess is right, then we are going to jump out of the while block\n",
        "            if guess>200 or guess<1: #if they aren't in the range\n",
        "                print(\"Silly Goose! That number isn't in the range!\")\n",
        "                time.sleep(.25)\n",
        "                print(\"Please enter a number between 1 and 200\")\n",
        "\n",
        "        except: #if a number wasn't entered\n",
        "            print(\"I don't think that \"+enter+\" is a number. Sorry\")\n",
        "\n",
        "    if guess == number:\n",
        "        guessesTaken = str(guessesTaken)\n",
        "        print('Good job, ' + name + '! You guessed my number in ' + guessesTaken + ' guesses!')\n",
        "\n",
        "    if guess != number:\n",
        "        print('Nope. The number I was thinking of was ' + str(number))\n",
        "\n",
        "playagain=\"yes\"\n",
        "while playagain==\"yes\" or playagain==\"y\" or playagain==\"Yes\":\n",
        "    intro()\n",
        "    pick()\n",
        "    print(\"Do you want to play again?\")\n",
        "    playagain=input()"
      ],
      "metadata": {
        "id": "wQC173Xbggdz"
      },
      "execution_count": null,
      "outputs": []
    }
  ]
}